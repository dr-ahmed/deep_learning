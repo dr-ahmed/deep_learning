{
  "cells": [
    {
      "cell_type": "code",
      "execution_count": null,
      "metadata": {
        "id": "LoPl6CfNpI8r"
      },
      "outputs": [],
      "source": [
        "import tensorflow as tf\n",
        "from tensorflow import keras\n",
        "import pandas as pd, numpy as np\n",
        "from keras.utils import plot_model\n",
        "from keras.models import Sequential\n",
        "from matplotlib import pyplot as plt\n",
        "from keras.layers import Flatten, InputLayer, Dense, Conv2D, MaxPooling2D, Dropout"
      ]
    },
    {
      "cell_type": "code",
      "execution_count": null,
      "metadata": {
        "id": "KRTH93VyMYF7"
      },
      "outputs": [],
      "source": [
        "(train_images, train_labels), (test_images, test_labels) = keras.datasets.mnist.load_data()\n",
        "\n",
        "train_images = train_images/255\n",
        "test_images = test_images/255"
      ]
    },
    {
      "cell_type": "code",
      "execution_count": null,
      "metadata": {
        "id": "Ke0r3qfTZZC1"
      },
      "outputs": [],
      "source": [
        "plt.imshow(train_images[1], cmap = 'gray')\n",
        "plt.axis('off')\n",
        "plt.show()"
      ]
    },
    {
      "cell_type": "code",
      "execution_count": null,
      "metadata": {
        "id": "nhY7qSoXeHLG"
      },
      "outputs": [],
      "source": [
        "x, y, z = np.expand_dims(train_images[1], -1).nonzero()\n",
        "ax = plt.axes(projection='3d')\n",
        "ax.scatter(x, y, z, c='k', alpha=1)\n",
        "plt.show()"
      ]
    },
    {
      "cell_type": "code",
      "execution_count": null,
      "metadata": {
        "id": "54FSoaTnIO3-"
      },
      "outputs": [],
      "source": [
        "from plotly import graph_objects as go\n",
        "\n",
        "data = pd.DataFrame(train_images[1])\n",
        "colors = [[0, 'white'], [0.5, 'gray'], [1, 'black']]\n",
        "fig = go.Figure(data=[go.Surface(z=data, colorscale = colors)])\n",
        "fig.show()"
      ]
    },
    {
      "cell_type": "code",
      "execution_count": null,
      "metadata": {
        "id": "jr78UU88Rzm6"
      },
      "outputs": [],
      "source": [
        "model = Sequential()\n",
        "model.add(InputLayer(input_shape=(28, 28, 1)))\n",
        "model.add(Conv2D(32, kernel_size=(4, 4), activation='relu'))\n",
        "model.add(MaxPooling2D(pool_size=(2, 2)))\n",
        "model.add(Flatten()\n",
        "model.add(Dropout(0.5))\n",
        "model.add(Dense(10, activation='softmax'))"
      ]
    },
    {
      "cell_type": "code",
      "execution_count": null,
      "metadata": {
        "id": "l0hRXmNmu85r"
      },
      "outputs": [],
      "source": [
        "model.compile(\n",
        "    optimizer='adam',\n",
        "    metrics=['accuracy'],\n",
        "    loss='sparse_categorical_crossentropy'\n",
        ")"
      ]
    },
    {
      "cell_type": "code",
      "execution_count": null,
      "metadata": {
        "id": "6k-bZL7Lu9PB"
      },
      "outputs": [],
      "source": [
        "metrics = model.fit(\n",
        "    train_images,\n",
        "    train_labels,\n",
        "    epochs = 10,\n",
        "    validation_split = 0.2\n",
        ")"
      ]
    },
    {
      "cell_type": "code",
      "execution_count": null,
      "metadata": {
        "id": "CazuknkLW_LY"
      },
      "outputs": [],
      "source": [
        "labels_prob = model.predict(test_images)\n",
        "labels_pred = labels_prob.argmax(axis=1)\n",
        "\n",
        "indices = np.where(test_labels != labels_pred)\n",
        "err_pred = np.array(indices).reshape(-1)"
      ]
    },
    {
      "cell_type": "code",
      "execution_count": null,
      "metadata": {
        "id": "e-v-dt9WGhwY"
      },
      "outputs": [],
      "source": [
        "df = pd.DataFrame(metrics.history)\n",
        "print(df)"
      ]
    },
    {
      "cell_type": "code",
      "execution_count": null,
      "metadata": {
        "id": "NT2HxBnDXv_V"
      },
      "outputs": [],
      "source": [
        "plt.plot(metrics.history['loss'])\n",
        "plt.plot(metrics.history['val_loss'])\n",
        "plt.legend(['loss', 'val_loss'])\n",
        "plt.show()"
      ]
    },
    {
      "cell_type": "code",
      "execution_count": null,
      "metadata": {
        "id": "Ln1DIjDOY8E7"
      },
      "outputs": [],
      "source": [
        "plt.plot(metrics.history['accuracy'])\n",
        "plt.plot(metrics.history['val_accuracy'])\n",
        "plt.legend(['accuracy', 'val_accuracy'])\n",
        "plt.show()"
      ]
    },
    {
      "cell_type": "code",
      "execution_count": null,
      "metadata": {
        "id": "S3-qQn_ohvZ8"
      },
      "outputs": [],
      "source": [
        "model.save('mnist_model.h5')"
      ]
    },
    {
      "cell_type": "code",
      "execution_count": null,
      "metadata": {
        "id": "E-C6O67RLLlX"
      },
      "outputs": [],
      "source": [
        "loaded_model = keras.models.load_model('mnist_model.h5')"
      ]
    },
    {
      "cell_type": "code",
      "execution_count": null,
      "metadata": {
        "id": "qEM67BM2EqpB"
      },
      "outputs": [],
      "source": [
        "import os\n",
        "from PIL import Image, ImageOps\n",
        "\n",
        "for filename in os.listdir(os.getcwd()):\n",
        "  if filename.endswith('.png'):\n",
        "    image = Image.open(filename)\n",
        "    image = image.convert('L')\n",
        "    inverted_image = ImageOps.invert(image)\n",
        "    imageAsArray = np.array(inverted_image)\n",
        "\n",
        "    imageAsArray = imageAsArray / 255\n",
        "    \n",
        "    prediction = loaded_model.predict(np.expand_dims(imageAsArray, 0))\n",
        "    plt.title('Label: %d' % np.argmax(prediction))\n",
        "    plt.imshow(imageAsArray, cmap='gray')\n",
        "    plt.axis('off')\n",
        "    plt.show()"
      ]
    }
  ],
  "metadata": {
    "colab": {
      "provenance": []
    },
    "gpuClass": "standard",
    "kernelspec": {
      "display_name": "Python 3",
      "name": "python3"
    },
    "language_info": {
      "name": "python"
    }
  },
  "nbformat": 4,
  "nbformat_minor": 0
}